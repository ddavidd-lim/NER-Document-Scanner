{
 "cells": [
  {
   "cell_type": "code",
   "execution_count": 1,
   "id": "07e07c40-516f-447b-a2e0-1ca87ad4dcfb",
   "metadata": {},
   "outputs": [],
   "source": [
    "import numpy as np\n",
    "import pandas as pd\n",
    "import string\n",
    "import re"
   ]
  },
  {
   "cell_type": "code",
   "execution_count": 2,
   "id": "e3fdf5f9-9bcd-4a22-8b4e-aed84ef6da10",
   "metadata": {},
   "outputs": [],
   "source": [
    "with open('businessCard.txt', mode='r',encoding='utf8', errors='ignore') as f:\n",
    "    text = f.read()"
   ]
  },
  {
   "cell_type": "code",
   "execution_count": 3,
   "id": "22a079c5-48a7-4f39-bae3-8d2b83bcd6c5",
   "metadata": {},
   "outputs": [],
   "source": [
    "# print(text)"
   ]
  },
  {
   "cell_type": "code",
   "execution_count": 4,
   "id": "bc754bf1-8185-43bf-9963-8f99ec9e6448",
   "metadata": {},
   "outputs": [],
   "source": [
    "# each column is split by \\t and each line is split by \\n\n",
    "data = list(map(lambda x:x.split('\\t'), text.split('\\n')))\n",
    "# map(function to apply, the thing thats function is applied to)"
   ]
  },
  {
   "cell_type": "code",
   "execution_count": 5,
   "id": "253b2535-ffeb-437b-9936-b6d0d3db17ab",
   "metadata": {},
   "outputs": [],
   "source": [
    "df = pd.DataFrame(data[1:],columns=data[0])"
   ]
  },
  {
   "cell_type": "code",
   "execution_count": 6,
   "id": "4101305a-e4ed-4226-82a0-e58e8d1828fa",
   "metadata": {},
   "outputs": [
    {
     "data": {
      "text/html": [
       "<div>\n",
       "<style scoped>\n",
       "    .dataframe tbody tr th:only-of-type {\n",
       "        vertical-align: middle;\n",
       "    }\n",
       "\n",
       "    .dataframe tbody tr th {\n",
       "        vertical-align: top;\n",
       "    }\n",
       "\n",
       "    .dataframe thead th {\n",
       "        text-align: right;\n",
       "    }\n",
       "</style>\n",
       "<table border=\"1\" class=\"dataframe\">\n",
       "  <thead>\n",
       "    <tr style=\"text-align: right;\">\n",
       "      <th></th>\n",
       "      <th>id</th>\n",
       "      <th>text</th>\n",
       "      <th>tag</th>\n",
       "    </tr>\n",
       "  </thead>\n",
       "  <tbody>\n",
       "    <tr>\n",
       "      <th>0</th>\n",
       "      <td>000.jpeg</td>\n",
       "      <td></td>\n",
       "      <td>O</td>\n",
       "    </tr>\n",
       "    <tr>\n",
       "      <th>1</th>\n",
       "      <td>000.jpeg</td>\n",
       "      <td>.</td>\n",
       "      <td>O</td>\n",
       "    </tr>\n",
       "    <tr>\n",
       "      <th>2</th>\n",
       "      <td>000.jpeg</td>\n",
       "      <td>040-4852</td>\n",
       "      <td>B-PHONE</td>\n",
       "    </tr>\n",
       "    <tr>\n",
       "      <th>3</th>\n",
       "      <td>000.jpeg</td>\n",
       "      <td>\"8881,\"</td>\n",
       "      <td>I-PHONE</td>\n",
       "    </tr>\n",
       "    <tr>\n",
       "      <th>4</th>\n",
       "      <td>000.jpeg</td>\n",
       "      <td>90309</td>\n",
       "      <td>B-PHONE</td>\n",
       "    </tr>\n",
       "    <tr>\n",
       "      <th>5</th>\n",
       "      <td>000.jpeg</td>\n",
       "      <td>52549</td>\n",
       "      <td>I-PHONE</td>\n",
       "    </tr>\n",
       "    <tr>\n",
       "      <th>6</th>\n",
       "      <td>000.jpeg</td>\n",
       "      <td>Fi</td>\n",
       "      <td>O</td>\n",
       "    </tr>\n",
       "    <tr>\n",
       "      <th>7</th>\n",
       "      <td>000.jpeg</td>\n",
       "      <td>/laurelsoverseaseducation</td>\n",
       "      <td>O</td>\n",
       "    </tr>\n",
       "    <tr>\n",
       "      <th>8</th>\n",
       "      <td>000.jpeg</td>\n",
       "      <td>@:</td>\n",
       "      <td>O</td>\n",
       "    </tr>\n",
       "    <tr>\n",
       "      <th>9</th>\n",
       "      <td>000.jpeg</td>\n",
       "      <td>LAURELS</td>\n",
       "      <td>B-ORG</td>\n",
       "    </tr>\n",
       "  </tbody>\n",
       "</table>\n",
       "</div>"
      ],
      "text/plain": [
       "         id                       text      tag\n",
       "0  000.jpeg                                   O\n",
       "1  000.jpeg                          .        O\n",
       "2  000.jpeg                   040-4852  B-PHONE\n",
       "3  000.jpeg                    \"8881,\"  I-PHONE\n",
       "4  000.jpeg                      90309  B-PHONE\n",
       "5  000.jpeg                      52549  I-PHONE\n",
       "6  000.jpeg                         Fi        O\n",
       "7  000.jpeg  /laurelsoverseaseducation        O\n",
       "8  000.jpeg                         @:        O\n",
       "9  000.jpeg                    LAURELS    B-ORG"
      ]
     },
     "execution_count": 6,
     "metadata": {},
     "output_type": "execute_result"
    }
   ],
   "source": [
    "df.head(10)"
   ]
  },
  {
   "cell_type": "markdown",
   "id": "76524c6e-32a8-4239-bb1e-0385930fa98e",
   "metadata": {},
   "source": [
    "### Cleaning Text\n",
    "* Remove white space\n",
    "* Remove Unwanted special characters"
   ]
  },
  {
   "cell_type": "code",
   "execution_count": 7,
   "id": "05bae577-f288-47c9-ae64-436eb9405315",
   "metadata": {},
   "outputs": [],
   "source": [
    "whitespace = string.whitespace\n",
    "punctuation = '!\"#$%&\\'()*+:;<=>?[\\\\]^`{|}~'\n",
    "tableWhitespace = str.maketrans('','',whitespace) # replace whitespace with ''\n",
    "tablePunctuation = str.maketrans('','',punctuation)\n",
    "# maketrans(x,y,z) args: if found x, replace with y, if found z, remove z\n",
    "def cleanText(txt):\n",
    "    text = str(txt)\n",
    "    text = text.lower()\n",
    "    removewhitespace = text.translate(tableWhitespace)\n",
    "    removepunctuation = removewhitespace.translate(tablePunctuation)\n",
    "\n",
    "    return str(removepunctuation)\n",
    "# punctuation = punctuation to remove"
   ]
  },
  {
   "cell_type": "code",
   "execution_count": 8,
   "id": "28c2d6f2-e2e6-4395-91df-db917f779819",
   "metadata": {},
   "outputs": [
    {
     "data": {
      "text/plain": [
       "'!\"#$%&\\'()*+,-./:;<=>?@[\\\\]^_`{|}~'"
      ]
     },
     "execution_count": 8,
     "metadata": {},
     "output_type": "execute_result"
    }
   ],
   "source": [
    "# keep some characters in punctuation like @ and /\n",
    "string.punctuation"
   ]
  },
  {
   "cell_type": "code",
   "execution_count": 9,
   "id": "83c79cf5-d49f-4269-9ac0-b40a8fcd9cea",
   "metadata": {},
   "outputs": [],
   "source": [
    "df['text'] = df['text'].apply(cleanText)"
   ]
  },
  {
   "cell_type": "code",
   "execution_count": 10,
   "id": "06c8d4be-a355-446f-9dc9-13ee09fd4766",
   "metadata": {},
   "outputs": [
    {
     "name": "stderr",
     "output_type": "stream",
     "text": [
      "C:\\Users\\David\\AppData\\Local\\Temp\\ipykernel_15644\\3379659824.py:2: SettingWithCopyWarning: \n",
      "A value is trying to be set on a copy of a slice from a DataFrame\n",
      "\n",
      "See the caveats in the documentation: https://pandas.pydata.org/pandas-docs/stable/user_guide/indexing.html#returning-a-view-versus-a-copy\n",
      "  dataClean.dropna(inplace=True)\n"
     ]
    }
   ],
   "source": [
    "dataClean = df.query(\"text != '' \")\n",
    "dataClean.dropna(inplace=True)"
   ]
  },
  {
   "cell_type": "code",
   "execution_count": 11,
   "id": "50d77067-0e7b-43a5-91bb-1aae5996a7b4",
   "metadata": {},
   "outputs": [
    {
     "data": {
      "text/html": [
       "<div>\n",
       "<style scoped>\n",
       "    .dataframe tbody tr th:only-of-type {\n",
       "        vertical-align: middle;\n",
       "    }\n",
       "\n",
       "    .dataframe tbody tr th {\n",
       "        vertical-align: top;\n",
       "    }\n",
       "\n",
       "    .dataframe thead th {\n",
       "        text-align: right;\n",
       "    }\n",
       "</style>\n",
       "<table border=\"1\" class=\"dataframe\">\n",
       "  <thead>\n",
       "    <tr style=\"text-align: right;\">\n",
       "      <th></th>\n",
       "      <th>id</th>\n",
       "      <th>text</th>\n",
       "      <th>tag</th>\n",
       "    </tr>\n",
       "  </thead>\n",
       "  <tbody>\n",
       "    <tr>\n",
       "      <th>1</th>\n",
       "      <td>000.jpeg</td>\n",
       "      <td>.</td>\n",
       "      <td>O</td>\n",
       "    </tr>\n",
       "    <tr>\n",
       "      <th>2</th>\n",
       "      <td>000.jpeg</td>\n",
       "      <td>040-4852</td>\n",
       "      <td>B-PHONE</td>\n",
       "    </tr>\n",
       "    <tr>\n",
       "      <th>3</th>\n",
       "      <td>000.jpeg</td>\n",
       "      <td>8881,</td>\n",
       "      <td>I-PHONE</td>\n",
       "    </tr>\n",
       "    <tr>\n",
       "      <th>4</th>\n",
       "      <td>000.jpeg</td>\n",
       "      <td>90309</td>\n",
       "      <td>B-PHONE</td>\n",
       "    </tr>\n",
       "    <tr>\n",
       "      <th>5</th>\n",
       "      <td>000.jpeg</td>\n",
       "      <td>52549</td>\n",
       "      <td>I-PHONE</td>\n",
       "    </tr>\n",
       "    <tr>\n",
       "      <th>6</th>\n",
       "      <td>000.jpeg</td>\n",
       "      <td>fi</td>\n",
       "      <td>O</td>\n",
       "    </tr>\n",
       "    <tr>\n",
       "      <th>7</th>\n",
       "      <td>000.jpeg</td>\n",
       "      <td>/laurelsoverseaseducation</td>\n",
       "      <td>O</td>\n",
       "    </tr>\n",
       "    <tr>\n",
       "      <th>8</th>\n",
       "      <td>000.jpeg</td>\n",
       "      <td>@</td>\n",
       "      <td>O</td>\n",
       "    </tr>\n",
       "    <tr>\n",
       "      <th>9</th>\n",
       "      <td>000.jpeg</td>\n",
       "      <td>laurels</td>\n",
       "      <td>B-ORG</td>\n",
       "    </tr>\n",
       "    <tr>\n",
       "      <th>10</th>\n",
       "      <td>000.jpeg</td>\n",
       "      <td>overseas</td>\n",
       "      <td>I-ORG</td>\n",
       "    </tr>\n",
       "  </tbody>\n",
       "</table>\n",
       "</div>"
      ],
      "text/plain": [
       "          id                       text      tag\n",
       "1   000.jpeg                          .        O\n",
       "2   000.jpeg                   040-4852  B-PHONE\n",
       "3   000.jpeg                      8881,  I-PHONE\n",
       "4   000.jpeg                      90309  B-PHONE\n",
       "5   000.jpeg                      52549  I-PHONE\n",
       "6   000.jpeg                         fi        O\n",
       "7   000.jpeg  /laurelsoverseaseducation        O\n",
       "8   000.jpeg                          @        O\n",
       "9   000.jpeg                    laurels    B-ORG\n",
       "10  000.jpeg                   overseas    I-ORG"
      ]
     },
     "execution_count": 11,
     "metadata": {},
     "output_type": "execute_result"
    }
   ],
   "source": [
    "dataClean.head(10)"
   ]
  },
  {
   "cell_type": "code",
   "execution_count": 12,
   "id": "2b2bea42-d8ab-4311-a9e1-3e5f5b7d16b1",
   "metadata": {},
   "outputs": [],
   "source": [
    "group = dataClean.groupby(by='id')"
   ]
  },
  {
   "cell_type": "code",
   "execution_count": 13,
   "id": "9d913e98-a082-4147-abaf-8b802c58adf2",
   "metadata": {},
   "outputs": [
    {
     "data": {
      "text/plain": [
       "dict_keys(['000.jpeg', '001.jpeg', '002.jpeg', '003.jpeg', '004.jpeg', '007.jpeg', '008.jpeg', '009.jpeg', '010.jpeg', '011.jpeg', '012.jpeg', '013.jpeg', '014.jpeg', '015.jpeg', '016.jpeg', '017.jpeg', '018.jpeg', '020.jpeg', '021.jpeg', '022.jpeg', '023.jpeg', '024.jpeg', '025.jpeg', '027.jpeg', '028.jpeg', '030.jpeg', '031.jpeg', '032.jpeg', '033.jpeg', '034.jpeg', '035.jpeg', '036.jpeg', '037.jpeg', '038.jpeg', '039.jpeg', '040.jpeg', '041.jpeg', '042.jpeg', '043.jpeg', '044.jpeg', '045.jpeg', '047.jpeg', '048.jpeg', '049.jpeg', '050.jpeg', '051.jpeg', '052.jpeg', '053.jpeg', '054.jpeg', '055.jpeg', '056.jpeg', '057.jpeg', '058.jpeg', '059.jpeg', '060.jpeg', '061.jpeg', '062.jpeg', '063.jpeg', '064.jpeg', '065.jpeg', '066.jpeg', '067.jpeg', '068.jpeg', '069.jpeg', '070.jpeg', '071.jpeg', '072.jpeg', '073.jpeg', '074.jpeg', '075.jpeg', '076.jpeg', '078.jpeg', '079.jpeg', '080.jpeg', '081.jpeg', '082.jpeg', '083.jpeg', '084.jpeg', '085.jpeg', '086.jpeg', '087.jpeg', '088.jpeg', '089.jpeg', '090.jpeg', '091.jpeg', '092.jpeg', '094.jpeg', '095.jpeg', '096.jpeg', '097.jpeg', '098.jpeg', '099.jpeg', '101.jpeg', '102.jpeg', '104.jpeg', '106.jpeg', '107.jpeg', '108.jpeg', '109.jpeg', '110.jpeg', '111.jpeg', '112.jpeg', '113.jpeg', '114.jpeg', '115.jpeg', '117.jpeg', '118.jpeg', '119.jpeg', '120.jpeg', '121.jpeg', '122.jpeg', '123.jpeg', '124.jpeg', '125.jpeg', '126.jpeg', '127.jpeg', '129.jpeg', '130.jpeg', '131.jpeg', '132.jpeg', '133.jpeg', '134.jpeg', '135.jpeg', '136.jpeg', '137.jpeg', '138.jpeg', '139.jpeg', '140.jpeg', '141.jpeg', '142.jpeg', '143.jpeg', '144.jpeg', '145.jpeg', '146.jpeg', '147.jpeg', '148.jpeg', '149.jpeg', '150.jpeg', '151.jpeg', '152.jpeg', '153.jpeg', '154.jpeg', '155.jpeg', '156.jpeg', '157.jpeg', '158.jpeg', '159.jpeg', '160.jpeg', '161.jpeg', '162.jpeg', '163.jpeg', '164.jpeg', '165.jpeg', '166.jpeg', '167.jpeg', '168.jpeg', '169.jpeg', '170.jpeg', '171.jpeg', '172.jpeg', '173.jpeg', '174.jpeg', '175.jpeg', '176.jpeg', '177.jpeg', '178.jpeg', '179.jpeg', '180.jpeg', '181.jpeg', '182.jpeg', '183.jpeg', '185.jpeg', '186.jpeg', '187.jpeg', '188.jpeg', '189.jpeg', '190.jpeg', '191.jpeg', '193.jpeg', '194.jpeg', '195.jpeg', '196.jpeg', '197.jpeg', '198.jpeg', '199.jpeg', '200.jpeg', '201.jpeg', '202.jpeg', '203.jpeg', '204.jpeg', '205.jpeg', '206.jpeg', '207.jpeg', '208.jpeg', '209.jpeg', '210.jpeg', '211.jpeg', '212.jpeg', '213.jpeg', '214.jpeg', '215.jpeg', '216.jpeg', '217.jpeg', '218.jpeg', '219.jpeg', '220.jpeg', '221.jpeg', '222.jpeg', '223.jpeg', '224.jpeg', '225.jpeg', '226.jpeg', '227.jpeg', '229.jpeg', '231.jpeg', '232.jpeg', '233.jpeg', '234.jpeg', '235.jpeg', '236.jpeg', '237.jpeg', '238.jpeg', '239.jpeg', '240.jpeg', '241.jpeg', '242.jpeg', '243.jpeg', '244.jpeg', '245.jpeg', '246.jpeg', '247.jpeg', '248.jpeg', '249.jpeg', '250.jpeg', '251.jpeg', '252.jpeg', '253.jpeg', '254.jpeg', '255.jpeg', '256.jpeg', '257.jpeg', '258.jpeg', '259.jpeg', '260.jpeg', '261.jpeg', '262.jpeg', '263.jpeg', '264.jpeg', '265.jpeg', '266.jpeg', '268.jpeg', '269.jpeg', '270.jpeg', '271.jpeg', '273.jpeg', '274.jpeg', '275.jpeg', '276.jpeg', '277.jpeg', '278.jpeg', '280.jpeg', '282.jpeg', '284.jpeg', '286.jpeg', '287.jpeg', '288.jpeg', '290.jpeg'])"
      ]
     },
     "execution_count": 13,
     "metadata": {},
     "output_type": "execute_result"
    }
   ],
   "source": [
    "cards = group.groups.keys()\n",
    "cards"
   ]
  },
  {
   "cell_type": "code",
   "execution_count": 14,
   "id": "911631a5-6d40-4848-83f9-0ef8258b9797",
   "metadata": {},
   "outputs": [],
   "source": [
    "allCardsData = []\n",
    "for card in cards:\n",
    "    cardData = []\n",
    "    grouparray = group.get_group(card)[['text','tag']].values\n",
    "    content = '' # all text \n",
    "    annotations = {'entities':[]} # ditc: information about labels\n",
    "    start = 0 # positions\n",
    "    end = 0\n",
    "    for text, label in grouparray:\n",
    "        text = str(text)\n",
    "        stringLength = len(text) + 1\n",
    "    \n",
    "        start = end\n",
    "        end = start + stringLength\n",
    "    \n",
    "        if label != 'O':\n",
    "            annot = (start, end-1, label)\n",
    "            annotations['entities'].append(annot)\n",
    "    \n",
    "        content = content + text + ' '\n",
    "\n",
    "    cardData = (content, annotations)\n",
    "    allCardsData.append(cardData)"
   ]
  },
  {
   "cell_type": "code",
   "execution_count": 15,
   "id": "04029bb0-c429-47dc-aafb-409fd9d52c37",
   "metadata": {},
   "outputs": [
    {
     "data": {
      "text/plain": [
       "'a5 p srmrrisurres richard pretorius director '"
      ]
     },
     "execution_count": 15,
     "metadata": {},
     "output_type": "execute_result"
    }
   ],
   "source": [
    "content"
   ]
  },
  {
   "cell_type": "code",
   "execution_count": 16,
   "id": "a93ba585-8d0b-41ec-b151-6b1049c54875",
   "metadata": {},
   "outputs": [
    {
     "data": {
      "text/plain": [
       "{'entities': [(5, 17, 'B-ORG'),\n",
       "  (18, 25, 'B-NAME'),\n",
       "  (26, 35, 'I-NAME'),\n",
       "  (36, 44, 'B-DES')]}"
      ]
     },
     "execution_count": 16,
     "metadata": {},
     "output_type": "execute_result"
    }
   ],
   "source": [
    "annotations"
   ]
  },
  {
   "cell_type": "code",
   "execution_count": 17,
   "id": "ce0a9781-bf42-4db0-b8e0-7938a8af3ec9",
   "metadata": {},
   "outputs": [
    {
     "data": {
      "text/plain": [
       "7"
      ]
     },
     "execution_count": 17,
     "metadata": {},
     "output_type": "execute_result"
    }
   ],
   "source": [
    "content.find('040-4852') + len('040-4852') # entity test"
   ]
  },
  {
   "cell_type": "markdown",
   "id": "aaf46679-6584-4b82-ace8-1a2a18341b51",
   "metadata": {},
   "source": [
    "### Split the data into training and testing set"
   ]
  },
  {
   "cell_type": "code",
   "execution_count": 18,
   "id": "9fc14a0c-0ee1-4a1e-a696-e55806f92a5b",
   "metadata": {},
   "outputs": [],
   "source": [
    "import random"
   ]
  },
  {
   "cell_type": "code",
   "execution_count": 19,
   "id": "a325aac8-ac59-4bbf-bd24-a30e6276be68",
   "metadata": {},
   "outputs": [],
   "source": [
    "random.shuffle(allCardsData)"
   ]
  },
  {
   "cell_type": "code",
   "execution_count": 20,
   "id": "926c4913-6d64-4f3e-ac34-23ae97705b39",
   "metadata": {},
   "outputs": [
    {
     "data": {
      "text/plain": [
       "267"
      ]
     },
     "execution_count": 20,
     "metadata": {},
     "output_type": "execute_result"
    }
   ],
   "source": [
    "len(allCardsData)"
   ]
  },
  {
   "cell_type": "code",
   "execution_count": 21,
   "id": "2aa0af33-b1a2-4f3d-90c6-e2883c75b897",
   "metadata": {},
   "outputs": [],
   "source": [
    "TrainData = allCardsData[:240]\n",
    "TestData = allCardsData[240:]"
   ]
  },
  {
   "cell_type": "code",
   "execution_count": 22,
   "id": "8d43f34e-32ae-448a-aad7-eafa1369bf4a",
   "metadata": {},
   "outputs": [],
   "source": [
    "import pickle"
   ]
  },
  {
   "cell_type": "code",
   "execution_count": 23,
   "id": "d3e41fa7-dba0-4111-b195-d27794dfb9d7",
   "metadata": {},
   "outputs": [],
   "source": [
    "pickle.dump(TrainData, open('./data/TrainData.pickle',mode='wb'))\n",
    "pickle.dump(TrainData, open('./data/TestData.pickle',mode='wb'))"
   ]
  },
  {
   "cell_type": "code",
   "execution_count": null,
   "id": "47f07e3c-0593-4441-a9b3-9f69c5421078",
   "metadata": {},
   "outputs": [],
   "source": []
  },
  {
   "cell_type": "code",
   "execution_count": null,
   "id": "d29f78c3-6731-455d-8b1b-45d5ae3ab781",
   "metadata": {},
   "outputs": [],
   "source": []
  }
 ],
 "metadata": {
  "kernelspec": {
   "display_name": "Python 3 (ipykernel)",
   "language": "python",
   "name": "python3"
  },
  "language_info": {
   "codemirror_mode": {
    "name": "ipython",
    "version": 3
   },
   "file_extension": ".py",
   "mimetype": "text/x-python",
   "name": "python",
   "nbconvert_exporter": "python",
   "pygments_lexer": "ipython3",
   "version": "3.12.1"
  }
 },
 "nbformat": 4,
 "nbformat_minor": 5
}
