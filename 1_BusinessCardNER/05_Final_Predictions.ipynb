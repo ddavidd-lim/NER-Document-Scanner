{
 "cells": [
  {
   "cell_type": "code",
   "execution_count": 2,
   "id": "6558d9ef-d60f-48bf-bfed-e05be98d8448",
   "metadata": {},
   "outputs": [],
   "source": [
    "import cv2\n",
    "import predictions as pred"
   ]
  },
  {
   "cell_type": "code",
   "execution_count": 3,
   "id": "c59d5b5d-39d8-46fd-b447-9dcdb7cae92c",
   "metadata": {},
   "outputs": [],
   "source": [
    "img = cv2.imread('./data/54.jpg')\n",
    "\n",
    "cv2.namedWindow('original', cv2.WINDOW_NORMAL)\n",
    "cv2.imshow('original', img)\n",
    "cv2.waitKey()\n",
    "cv2.destroyAllWindows()"
   ]
  },
  {
   "cell_type": "code",
   "execution_count": 4,
   "id": "611b9538-4263-4590-aab0-bc972b35a07b",
   "metadata": {},
   "outputs": [
    {
     "name": "stdout",
     "output_type": "stream",
     "text": [
      "stanford stanford @ medicine cardiovascular institute joseph c. wu, md, phd director, stanford cardiovascular institute professor medicine cardiology radiology 265 campus drive, g-1120b re 650 736-2246 stanford, ca 94305, mc-5454 http//wulab.stanford.edu joewu@stanford.edu http//evistanford.edu\n",
      "{'NAME': ['Joseph C Wu'], 'ORG': ['Stanford', 'Stanford  Medicine Cardiovascular Institute'], 'DES': ['Director'], 'PHONE': ['736'], 'EMAIL': ['joewu@stanford.eduhttpevistanford.edu'], 'WEB': ['http//wulab.stanford.edu']}\n"
     ]
    }
   ],
   "source": [
    "img_results , entities = pred.getPredictions(img)\n",
    "\n",
    "print(entities)\n",
    "cv2.namedWindow('predictions', cv2.WINDOW_NORMAL)\n",
    "cv2.imshow('predictions', img_results)\n",
    "cv2.waitKey()\n",
    "cv2.destroyAllWindows()"
   ]
  },
  {
   "cell_type": "code",
   "execution_count": null,
   "id": "fb174e71-d23a-4234-8cb4-2f20312deaaa",
   "metadata": {},
   "outputs": [],
   "source": []
  },
  {
   "cell_type": "code",
   "execution_count": null,
   "id": "1660c780-b38f-4e84-9880-ed89965014a1",
   "metadata": {},
   "outputs": [],
   "source": []
  },
  {
   "cell_type": "code",
   "execution_count": null,
   "id": "e0371804-d816-461c-8e40-7e785e6a3a7f",
   "metadata": {},
   "outputs": [],
   "source": []
  },
  {
   "cell_type": "code",
   "execution_count": null,
   "id": "a66541e5-ae1a-4841-a084-cf8f7afade1f",
   "metadata": {},
   "outputs": [],
   "source": []
  },
  {
   "cell_type": "code",
   "execution_count": null,
   "id": "7bc2fcf3-def8-41a1-8d53-2367dd7c48e6",
   "metadata": {},
   "outputs": [],
   "source": []
  }
 ],
 "metadata": {
  "kernelspec": {
   "display_name": "Python 3 (ipykernel)",
   "language": "python",
   "name": "python3"
  },
  "language_info": {
   "codemirror_mode": {
    "name": "ipython",
    "version": 3
   },
   "file_extension": ".py",
   "mimetype": "text/x-python",
   "name": "python",
   "nbconvert_exporter": "python",
   "pygments_lexer": "ipython3",
   "version": "3.12.1"
  }
 },
 "nbformat": 4,
 "nbformat_minor": 5
}
